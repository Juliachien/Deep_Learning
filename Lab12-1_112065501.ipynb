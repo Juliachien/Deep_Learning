{
 "cells": [
  {
   "cell_type": "code",
   "execution_count": 17,
   "outputs": [],
   "source": [
    "import tensorflow as tf\n",
    "import pandas as pd\n",
    "import re\n",
    "import numpy as np\n",
    "import os\n",
    "import time\n",
    "from sklearn.model_selection import train_test_split"
   ],
   "metadata": {
    "collapsed": false,
    "ExecuteTime": {
     "end_time": "2023-11-20T09:30:02.005675Z",
     "start_time": "2023-11-20T09:30:02.002074Z"
    }
   },
   "id": "a678419cf40b4a82"
  },
  {
   "cell_type": "code",
   "execution_count": 18,
   "outputs": [
    {
     "name": "stdout",
     "output_type": "stream",
     "text": [
      "1 Physical GPUs, 1 Logical GPUs\n"
     ]
    }
   ],
   "source": [
    "gpus = tf.config.experimental.list_physical_devices('GPU')\n",
    "if gpus:\n",
    "    try:\n",
    "        # Restrict TensorFlow to only use the first GPU\n",
    "        tf.config.experimental.set_visible_devices(gpus[0], 'GPU')\n",
    "\n",
    "        # Currently, memory growth needs to be the same across GPUs\n",
    "        for gpu in gpus:\n",
    "            tf.config.experimental.set_memory_growth(gpu, True)\n",
    "        logical_gpus = tf.config.experimental.list_logical_devices('GPU')\n",
    "        print(len(gpus), \"Physical GPUs,\", len(logical_gpus), \"Logical GPUs\")\n",
    "    except RuntimeError as e:\n",
    "        # Memory growth must be set before GPUs have been initialized\n",
    "        print(e)"
   ],
   "metadata": {
    "collapsed": false,
    "ExecuteTime": {
     "end_time": "2023-11-20T09:30:02.339754Z",
     "start_time": "2023-11-20T09:30:02.331033Z"
    }
   },
   "id": "9dbbe8eef8242722"
  },
  {
   "cell_type": "code",
   "execution_count": 19,
   "outputs": [],
   "source": [
    "# load the dataset\n",
    "movie_reviews = pd.read_csv(\"./data/IMDB Dataset.csv\")"
   ],
   "metadata": {
    "collapsed": false,
    "ExecuteTime": {
     "end_time": "2023-11-20T09:30:03.014056Z",
     "start_time": "2023-11-20T09:30:02.561011Z"
    }
   },
   "id": "497486e5f09eb989"
  },
  {
   "cell_type": "code",
   "execution_count": 20,
   "outputs": [
    {
     "data": {
      "text/plain": "(50000, 2)"
     },
     "metadata": {},
     "output_type": "display_data"
    },
    {
     "data": {
      "text/plain": "                                              review sentiment\n0  One of the other reviewers has mentioned that ...  positive\n1  A wonderful little production. <br /><br />The...  positive\n2  I thought this was a wonderful way to spend ti...  positive\n3  Basically there's a family where a little boy ...  negative\n4  Petter Mattei's \"Love in the Time of Money\" is...  positive",
      "text/html": "<div>\n<style scoped>\n    .dataframe tbody tr th:only-of-type {\n        vertical-align: middle;\n    }\n\n    .dataframe tbody tr th {\n        vertical-align: top;\n    }\n\n    .dataframe thead th {\n        text-align: right;\n    }\n</style>\n<table border=\"1\" class=\"dataframe\">\n  <thead>\n    <tr style=\"text-align: right;\">\n      <th></th>\n      <th>review</th>\n      <th>sentiment</th>\n    </tr>\n  </thead>\n  <tbody>\n    <tr>\n      <th>0</th>\n      <td>One of the other reviewers has mentioned that ...</td>\n      <td>positive</td>\n    </tr>\n    <tr>\n      <th>1</th>\n      <td>A wonderful little production. &lt;br /&gt;&lt;br /&gt;The...</td>\n      <td>positive</td>\n    </tr>\n    <tr>\n      <th>2</th>\n      <td>I thought this was a wonderful way to spend ti...</td>\n      <td>positive</td>\n    </tr>\n    <tr>\n      <th>3</th>\n      <td>Basically there's a family where a little boy ...</td>\n      <td>negative</td>\n    </tr>\n    <tr>\n      <th>4</th>\n      <td>Petter Mattei's \"Love in the Time of Money\" is...</td>\n      <td>positive</td>\n    </tr>\n  </tbody>\n</table>\n</div>"
     },
     "metadata": {},
     "output_type": "display_data"
    }
   ],
   "source": [
    "# show the size of the dataset\n",
    "display(movie_reviews.shape)\n",
    "# show the first five data in the dataset\n",
    "display(movie_reviews.head())"
   ],
   "metadata": {
    "collapsed": false,
    "ExecuteTime": {
     "end_time": "2023-11-20T09:30:03.019929Z",
     "start_time": "2023-11-20T09:30:03.015104Z"
    }
   },
   "id": "118556f21fed6bc"
  },
  {
   "cell_type": "code",
   "execution_count": 21,
   "outputs": [
    {
     "data": {
      "text/plain": "\"One of the other reviewers has mentioned that after watching just 1 Oz episode you'll be hooked. They are right, as this is exactly what happened with me.<br /><br />The first thing that struck me about Oz was its brutality and unflinching scenes of violence, which set in right from the word GO. Trust me, this is not a show for the faint hearted or timid. This show pulls no punches with regards to drugs, sex or violence. Its is hardcore, in the classic use of the word.<br /><br />It is called OZ as that is the nickname given to the Oswald Maximum Security State Penitentary. It focuses mainly on Emerald City, an experimental section of the prison where all the cells have glass fronts and face inwards, so privacy is not high on the agenda. Em City is home to many..Aryans, Muslims, gangstas, Latinos, Christians, Italians, Irish and more....so scuffles, death stares, dodgy dealings and shady agreements are never far away.<br /><br />I would say the main appeal of the show is due to the fact that it goes where other shows wouldn't dare. Forget pretty pictures painted for mainstream audiences, forget charm, forget romance...OZ doesn't mess around. The first episode I ever saw struck me as so nasty it was surreal, I couldn't say I was ready for it, but as I watched more, I developed a taste for Oz, and got accustomed to the high levels of graphic violence. Not just violence, but injustice (crooked guards who'll be sold out for a nickel, inmates who'll kill on order and get away with it, well mannered, middle class inmates being turned into prison bitches due to their lack of street skills or prison experience) Watching Oz, you may become comfortable with what is uncomfortable viewing....thats if you can get in touch with your darker side.\""
     },
     "execution_count": 21,
     "metadata": {},
     "output_type": "execute_result"
    }
   ],
   "source": [
    "movie_reviews[\"review\"][0]"
   ],
   "metadata": {
    "collapsed": false,
    "ExecuteTime": {
     "end_time": "2023-11-20T09:30:03.034899Z",
     "start_time": "2023-11-20T09:30:03.031582Z"
    }
   },
   "id": "592a3e998dc2dd04"
  },
  {
   "cell_type": "code",
   "execution_count": 22,
   "outputs": [],
   "source": [
    "TAG_RE = re.compile(r'<[^>]+>')\n",
    "\n",
    "def remove_tags(text):\n",
    "    return TAG_RE.sub('', text)\n",
    "\n",
    "def preprocess_text(sen):\n",
    "    # Removing html tags\n",
    "    sentence = remove_tags(sen)\n",
    "\n",
    "    # Remove punctuations and numbers\n",
    "    sentence = re.sub('[^a-zA-Z]', ' ', sentence)\n",
    "\n",
    "    # Single character removal\n",
    "    sentence = re.sub(r\"\\s+[a-zA-Z]\\s+\", ' ', sentence)\n",
    "\n",
    "    # Removing multiple spaces\n",
    "    sentence = re.sub(r'\\s+', ' ', sentence)\n",
    "\n",
    "    return sentence"
   ],
   "metadata": {
    "collapsed": false,
    "ExecuteTime": {
     "end_time": "2023-11-20T09:30:03.245931Z",
     "start_time": "2023-11-20T09:30:03.240834Z"
    }
   },
   "id": "7dd2e468f39a1fcc"
  },
  {
   "cell_type": "code",
   "execution_count": 23,
   "outputs": [],
   "source": [
    "X = []\n",
    "sentences = list(movie_reviews['review'])\n",
    "for sen in sentences:\n",
    "    X.append(preprocess_text(sen))\n",
    "\n",
    "# replace the positive with 1, replace the negative with 0\n",
    "y = movie_reviews['sentiment']\n",
    "y = np.array(list(map(lambda x: 1 if x == \"positive\" else 0, y)))"
   ],
   "metadata": {
    "collapsed": false,
    "ExecuteTime": {
     "end_time": "2023-11-20T09:30:07.506532Z",
     "start_time": "2023-11-20T09:30:03.556509Z"
    }
   },
   "id": "d1fbfcb7e961b933"
  },
  {
   "cell_type": "code",
   "execution_count": 24,
   "outputs": [
    {
     "name": "stdout",
     "output_type": "stream",
     "text": [
      "# training data: 40000\n",
      "# test data: 10000\n"
     ]
    }
   ],
   "source": [
    "# Split the training dataset and test dataset\n",
    "X_train, X_test, y_train, y_test = train_test_split(X, y, test_size=0.20, random_state=42)\n",
    "print(\"# training data: {:d}\\n# test data: {:d}\".format(len(X_train), len(X_test)))"
   ],
   "metadata": {
    "collapsed": false,
    "ExecuteTime": {
     "end_time": "2023-11-20T09:30:07.518372Z",
     "start_time": "2023-11-20T09:30:07.508125Z"
    }
   },
   "id": "418483e1a56afadd"
  },
  {
   "cell_type": "code",
   "execution_count": 25,
   "outputs": [],
   "source": [
    "tokenizer = tf.keras.preprocessing.text.Tokenizer(num_words=10000)\n",
    "tokenizer.fit_on_texts(X_train)\n",
    "\n",
    "X_train = tokenizer.texts_to_sequences(X_train)\n",
    "X_test = tokenizer.texts_to_sequences(X_test)\n",
    "\n",
    "max_len = 100\n",
    "# padding sentences to the same length\n",
    "X_train = tf.keras.preprocessing.sequence.pad_sequences(X_train, padding='post', maxlen=max_len)\n",
    "X_test = tf.keras.preprocessing.sequence.pad_sequences(X_test, padding='post', maxlen=max_len)"
   ],
   "metadata": {
    "collapsed": false,
    "ExecuteTime": {
     "end_time": "2023-11-20T09:30:11.214518Z",
     "start_time": "2023-11-20T09:30:07.563214Z"
    }
   },
   "id": "9708d61d19fdf349"
  },
  {
   "cell_type": "code",
   "execution_count": 26,
   "outputs": [
    {
     "data": {
      "text/plain": "array([   1,  296,  140, 2854,    2,  405,  614,    1,  263,    5, 3514,\n        977,    4,   25,   37,   11, 1237,  215,   62,    2,   35,    5,\n         27,  217,   24,  189, 1430,    7, 1068,   15, 4868,   81,    1,\n        221,   63,  351,   64,   52,   24,    4, 3547,   13,    6,   19,\n        192,    4, 8148,  859, 3430, 1720,   17,   23,    4,  158,  194,\n        175,  106,    9, 1604,  461,   71,  218,    4,  321,    2, 3431,\n         31,   20,   47,   68, 1844, 4668,   11,    6, 1365,    8,   16,\n          5, 3475, 1990,   14,   59,    1, 2380,  460,  518,    2,  170,\n       2524, 2698, 1745,    4,  573,    6,   33,    1, 3750,  198,  345,\n       3812], dtype=int32)"
     },
     "execution_count": 26,
     "metadata": {},
     "output_type": "execute_result"
    }
   ],
   "source": [
    "# show the preprocessed data\n",
    "X_train[0]"
   ],
   "metadata": {
    "collapsed": false,
    "ExecuteTime": {
     "end_time": "2023-11-20T09:30:11.221468Z",
     "start_time": "2023-11-20T09:30:11.215937Z"
    }
   },
   "id": "49342891d109a804"
  },
  {
   "cell_type": "code",
   "execution_count": 27,
   "outputs": [
    {
     "data": {
      "text/plain": "(TensorShape([128, 100]), TensorShape([128]))"
     },
     "execution_count": 27,
     "metadata": {},
     "output_type": "execute_result"
    }
   ],
   "source": [
    "BUFFER_SIZE = len(X_train)\n",
    "BATCH_SIZE = 128\n",
    "steps_per_epoch = len(X_train)//BATCH_SIZE\n",
    "embedding_dim = 256\n",
    "units = 1024\n",
    "# only reserve 10000 words\n",
    "vocab_size = 10000\n",
    "\n",
    "dataset = tf.data.Dataset.from_tensor_slices((X_train, y_train)).shuffle(BUFFER_SIZE)\n",
    "dataset = dataset.batch(BATCH_SIZE, drop_remainder=True)\n",
    "test_dataset = tf.data.Dataset.from_tensor_slices((X_test, y_test))\n",
    "test_dataset = test_dataset.batch(BATCH_SIZE, drop_remainder=False)\n",
    "\n",
    "example_input_batch, example_target_batch = next(iter(dataset))\n",
    "example_input_batch.shape, example_target_batch.shape"
   ],
   "metadata": {
    "collapsed": false,
    "ExecuteTime": {
     "end_time": "2023-11-20T09:30:11.284519Z",
     "start_time": "2023-11-20T09:30:11.218834Z"
    }
   },
   "id": "7d207292f26a3fb8"
  },
  {
   "cell_type": "code",
   "execution_count": 28,
   "outputs": [],
   "source": [
    "class Encoder(tf.keras.Model):\n",
    "    def __init__(self, vocab_size, embedding_dim, enc_units, batch_sz):\n",
    "        # vacab_size=10000, embedding_dim=256 enc_units=1024 batch_sz=64\n",
    "        super(Encoder, self).__init__()\n",
    "        self.batch_sz = batch_sz\n",
    "        self.enc_units = enc_units\n",
    "        self.embedding = tf.keras.layers.Embedding(vocab_size, embedding_dim)\n",
    "        self.gru = tf.keras.layers.GRU(self.enc_units,\n",
    "                                       return_sequences=True,\n",
    "                                       return_state=True,\n",
    "                                       recurrent_activation='sigmoid',\n",
    "                                       recurrent_initializer='glorot_uniform')\n",
    "\n",
    "    def call(self, x, hidden):\n",
    "        # x is the training data with shape == (batch_size，max_length)  -> (128, 100)\n",
    "        # which means there are batch_size sentences in one batch, the length of each sentence is max_length\n",
    "        # hidden state shape == (batch_size, units) -> (128, 1024)\n",
    "        # after embedding, x shape == (batch_size, max_length, embedding_dim) -> (128, 100, 256)\n",
    "        x = self.embedding(x)\n",
    "        \n",
    "        # output contains the state(in GRU, the hidden state and the output are same) from all timestamps,\n",
    "        # output shape == (batch_size, max_length, units) -> (128, 100, 1024)\n",
    "        # state is the hidden state of the last timestamp, shape == (batch_size, units) -> (128, 1024)\n",
    "        output, state = self.gru(x, initial_state=hidden)\n",
    "        \n",
    "        return output, state\n",
    "\n",
    "    def initialize_hidden_state(self):\n",
    "        # initialize the first state of the gru,  shape == (batch_size, units) -> (128, 1024)\n",
    "        return tf.zeros((self.batch_sz, self.enc_units))"
   ],
   "metadata": {
    "collapsed": false,
    "ExecuteTime": {
     "end_time": "2023-11-20T09:30:11.284842Z",
     "start_time": "2023-11-20T09:30:11.282377Z"
    }
   },
   "id": "83788aea1b1d8fea"
  },
  {
   "cell_type": "code",
   "execution_count": 29,
   "outputs": [
    {
     "name": "stdout",
     "output_type": "stream",
     "text": [
      "Encoder output shape: (batch size, sequence length, units) (128, 100, 1024)\n",
      "Encoder Hidden state shape: (batch size, units) (128, 1024)\n",
      "tf.Tensor([ True  True  True ...  True  True  True], shape=(1024,), dtype=bool)\n"
     ]
    }
   ],
   "source": [
    "encoder = Encoder(vocab_size, embedding_dim, units, BATCH_SIZE)\n",
    "\n",
    "# sample input\n",
    "sample_hidden = encoder.initialize_hidden_state()\n",
    "sample_output, sample_hidden = encoder(example_input_batch, sample_hidden)\n",
    "print('Encoder output shape: (batch size, sequence length, units) {}'.format(sample_output.shape))\n",
    "print('Encoder Hidden state shape: (batch size, units) {}'.format(sample_hidden.shape))\n",
    "# the output and the hidden state of GRU is equal\n",
    "print(sample_output[-1, -1, :] == sample_hidden[-1, :])"
   ],
   "metadata": {
    "collapsed": false,
    "ExecuteTime": {
     "end_time": "2023-11-20T09:30:11.578240Z",
     "start_time": "2023-11-20T09:30:11.287098Z"
    }
   },
   "id": "f041eee1de10365a"
  },
  {
   "cell_type": "code",
   "execution_count": 40,
   "outputs": [],
   "source": [
    "class LuongAttention(tf.keras.Model):\n",
    "    def __init__(self, units):\n",
    "        super(LuongAttention, self).__init__()\n",
    "        # TODO: Complete the function.\n",
    "        self.W1 = tf.keras.layers.Dense(units)\n",
    "        self.W2 = tf.keras.layers.Dense(units)\n",
    "        self.V = tf.keras.layers.Dense(1)\n",
    "\n",
    "    def call(self, query, values):\n",
    "        # TODO: Implement the Luong attention.\n",
    "        #print('query (decoder hidden state): (batch_size, hidden size) ', query.shape)\n",
    "        #print('values (encoder all hidden state): (batch_size, max_len, hidden size) ', values.shape)\n",
    "        query_with_time_axis = tf.expand_dims(query, 1)\n",
    "        #print('query_with_time_axis:(batch_size, 1, hidden size) ', query_with_time_axis.shape)\n",
    "        \n",
    "        values_transposed = tf.transpose(values, perm=[0, 2, 1])\n",
    "        #print('values_transposed:(batch_size, hidden size, max_len) ', values_transposed.shape)\n",
    "        score = tf.transpose(tf.matmul(query_with_time_axis, values_transposed) , perm=[0, 2, 1])\n",
    "        #print('score: (batch_size, max_length, 1) ',score.shape)\n",
    "        attention_weights = tf.nn.softmax(score, axis=1)\n",
    "        #print('attention_weights: (batch_size, max_length, 1) ',attention_weights.shape)\n",
    "\n",
    "        context_vector = attention_weights * values\n",
    "        context_vector = tf.reduce_sum(context_vector, axis=1)\n",
    "\n",
    "        return context_vector, attention_weights"
   ],
   "metadata": {
    "collapsed": false,
    "ExecuteTime": {
     "end_time": "2023-11-20T09:44:17.688326Z",
     "start_time": "2023-11-20T09:44:17.686496Z"
    }
   },
   "id": "65e70aa69f911f93"
  },
  {
   "cell_type": "code",
   "execution_count": 41,
   "outputs": [],
   "source": [
    "class Decoder(tf.keras.Model):\n",
    "    def __init__(self, dec_units, batch_sz):\n",
    "        super(Decoder, self).__init__()\n",
    "        self.batch_sz = batch_sz\n",
    "        self.dec_units = dec_units\n",
    "        \n",
    "        # pass through four fully connected layers, the model will return \n",
    "        # the probability of the positivity of the sentence\n",
    "        self.fc_1 = tf.keras.layers.Dense(2048)\n",
    "        self.fc_2 = tf.keras.layers.Dense(512)\n",
    "        self.fc_3 = tf.keras.layers.Dense(64)\n",
    "        self.fc_4 = tf.keras.layers.Dense(1)\n",
    "\n",
    "        # used for attention\n",
    "        self.attention = LuongAttention(self.dec_units)\n",
    "\n",
    "    def call(self, hidden, enc_output):\n",
    "        context_vector, attention_weights = self.attention(hidden, enc_output)\n",
    "        output = self.fc_1(context_vector)\n",
    "        output = self.fc_2(output)\n",
    "        output = self.fc_3(output)\n",
    "        output = self.fc_4(output)\n",
    "\n",
    "        return output, attention_weights"
   ],
   "metadata": {
    "collapsed": false,
    "ExecuteTime": {
     "end_time": "2023-11-20T09:44:18.314444Z",
     "start_time": "2023-11-20T09:44:18.306156Z"
    }
   },
   "id": "d0397a400ae7232a"
  },
  {
   "cell_type": "code",
   "execution_count": 42,
   "outputs": [
    {
     "name": "stdout",
     "output_type": "stream",
     "text": [
      "Decoder output shape: (batch_size, vocab size) (128, 1)\n"
     ]
    }
   ],
   "source": [
    "decoder = Decoder(units, BATCH_SIZE)\n",
    "sample_decoder_output, _ = decoder(sample_hidden, sample_output)\n",
    "print('Decoder output shape: (batch_size, vocab size) {}'.format(sample_decoder_output.shape))"
   ],
   "metadata": {
    "collapsed": false,
    "ExecuteTime": {
     "end_time": "2023-11-20T09:44:18.573285Z",
     "start_time": "2023-11-20T09:44:18.529263Z"
    }
   },
   "id": "d508d6d1e6132ce5"
  },
  {
   "cell_type": "code",
   "execution_count": 44,
   "outputs": [],
   "source": [
    "optimizer = tf.keras.optimizers.legacy.Adam()\n",
    "loss_object = tf.keras.losses.BinaryCrossentropy(from_logits=True)\n",
    "\n",
    "def loss_function(real, pred):\n",
    "    loss_ = loss_object(real, pred)\n",
    "    return tf.reduce_mean(loss_)"
   ],
   "metadata": {
    "collapsed": false,
    "ExecuteTime": {
     "end_time": "2023-11-20T09:44:32.870755Z",
     "start_time": "2023-11-20T09:44:32.860672Z"
    }
   },
   "id": "3f34d63f091d51e9"
  },
  {
   "cell_type": "code",
   "execution_count": 45,
   "outputs": [],
   "source": [
    "checkpoint_dir = './checkpoints/sentiment-analysis'\n",
    "checkpoint_prefix = os.path.join(checkpoint_dir, \"ckpt\")\n",
    "checkpoint = tf.train.Checkpoint(optimizer=optimizer,\n",
    "                                 encoder=encoder,\n",
    "                                 decoder=decoder)"
   ],
   "metadata": {
    "collapsed": false,
    "ExecuteTime": {
     "end_time": "2023-11-20T09:44:34.997895Z",
     "start_time": "2023-11-20T09:44:34.995677Z"
    }
   },
   "id": "8c9e6e5a5f105080"
  },
  {
   "cell_type": "code",
   "execution_count": 46,
   "outputs": [],
   "source": [
    "@tf.function\n",
    "def train_step(inp, targ, enc_hidden):\n",
    "    loss = 0\n",
    "\n",
    "    with tf.GradientTape() as tape:\n",
    "        enc_output, enc_hidden = encoder(inp, enc_hidden)\n",
    "\n",
    "        # passing enc_output to the decoder\n",
    "        predictions, _ = decoder(enc_hidden, enc_output)\n",
    "\n",
    "        loss = loss_function(targ, predictions)\n",
    "\n",
    "    # collect all trainable variables\n",
    "    variables = encoder.trainable_variables + decoder.trainable_variables\n",
    "\n",
    "    # calculate the gradients for the whole variables\n",
    "    gradients = tape.gradient(loss, variables)\n",
    "\n",
    "    # apply the gradients on the variables\n",
    "    optimizer.apply_gradients(zip(gradients, variables))\n",
    "\n",
    "    return loss"
   ],
   "metadata": {
    "collapsed": false,
    "ExecuteTime": {
     "end_time": "2023-11-20T09:44:38.185582Z",
     "start_time": "2023-11-20T09:44:38.178339Z"
    }
   },
   "id": "f4d679b1cc12b6ad"
  },
  {
   "cell_type": "code",
   "execution_count": 47,
   "outputs": [
    {
     "name": "stderr",
     "output_type": "stream",
     "text": [
      "2023-11-20 17:44:43.952778: I tensorflow/core/grappler/optimizers/custom_graph_optimizer_registry.cc:117] Plugin optimizer for device_type GPU is enabled.\n"
     ]
    },
    {
     "name": "stdout",
     "output_type": "stream",
     "text": [
      "Epoch 1 Batch 0 Loss 0.6933\n",
      "Epoch 1 Batch 100 Loss 0.2369\n",
      "Epoch 1 Batch 200 Loss 0.3336\n",
      "Epoch 1 Batch 300 Loss 0.3586\n",
      "Epoch 1 Loss 0.3839\n",
      "Time taken for 1 epoch 72.70211005210876 sec\n",
      "Epoch 2 Batch 0 Loss 0.2767\n",
      "Epoch 2 Batch 100 Loss 0.2666\n",
      "Epoch 2 Batch 200 Loss 0.1827\n",
      "Epoch 2 Batch 300 Loss 0.2402\n",
      "Epoch 2 Loss 0.2630\n",
      "Time taken for 1 epoch 69.52050495147705 sec\n",
      "Epoch 3 Batch 0 Loss 0.1988\n",
      "Epoch 3 Batch 100 Loss 0.1824\n",
      "Epoch 3 Batch 200 Loss 0.2455\n",
      "Epoch 3 Batch 300 Loss 0.1688\n",
      "Epoch 3 Loss 0.2103\n",
      "Time taken for 1 epoch 99.8039038181305 sec\n",
      "Epoch 4 Batch 0 Loss 0.1990\n",
      "Epoch 4 Batch 100 Loss 0.1600\n",
      "Epoch 4 Batch 200 Loss 0.1301\n",
      "Epoch 4 Batch 300 Loss 0.1754\n",
      "Epoch 4 Loss 0.1540\n",
      "Time taken for 1 epoch 98.04336404800415 sec\n",
      "Epoch 5 Batch 0 Loss 0.0820\n",
      "Epoch 5 Batch 100 Loss 0.1182\n",
      "Epoch 5 Batch 200 Loss 0.0354\n",
      "Epoch 5 Batch 300 Loss 0.0789\n",
      "Epoch 5 Loss 0.0986\n",
      "Time taken for 1 epoch 92.41884064674377 sec\n",
      "Epoch 6 Batch 0 Loss 0.0557\n",
      "Epoch 6 Batch 100 Loss 0.0993\n",
      "Epoch 6 Batch 200 Loss 0.0446\n",
      "Epoch 6 Batch 300 Loss 0.0623\n",
      "Epoch 6 Loss 0.0675\n",
      "Time taken for 1 epoch 97.34084606170654 sec\n",
      "Epoch 7 Batch 0 Loss 0.0327\n",
      "Epoch 7 Batch 100 Loss 0.0439\n",
      "Epoch 7 Batch 200 Loss 0.1100\n",
      "Epoch 7 Batch 300 Loss 0.0410\n",
      "Epoch 7 Loss 0.0474\n",
      "Time taken for 1 epoch 97.2820930480957 sec\n",
      "Epoch 8 Batch 0 Loss 0.0476\n",
      "Epoch 8 Batch 100 Loss 0.0325\n",
      "Epoch 8 Batch 200 Loss 0.0125\n",
      "Epoch 8 Batch 300 Loss 0.0408\n",
      "Epoch 8 Loss 0.0376\n",
      "Time taken for 1 epoch 101.45272898674011 sec\n",
      "Epoch 9 Batch 0 Loss 0.0092\n",
      "Epoch 9 Batch 100 Loss 0.0277\n",
      "Epoch 9 Batch 200 Loss 0.0046\n",
      "Epoch 9 Batch 300 Loss 0.0293\n",
      "Epoch 9 Loss 0.0284\n",
      "Time taken for 1 epoch 101.80610084533691 sec\n",
      "Epoch 10 Batch 0 Loss 0.0035\n",
      "Epoch 10 Batch 100 Loss 0.0343\n",
      "Epoch 10 Batch 200 Loss 0.0501\n",
      "Epoch 10 Batch 300 Loss 0.0565\n",
      "Epoch 10 Loss 0.0219\n",
      "Time taken for 1 epoch 100.74979710578918 sec\n",
      "Epoch 11 Batch 0 Loss 0.0083\n",
      "Epoch 11 Batch 100 Loss 0.0005\n",
      "Epoch 11 Batch 200 Loss 0.0126\n",
      "Epoch 11 Batch 300 Loss 0.1226\n",
      "Epoch 11 Loss 0.0212\n",
      "Time taken for 1 epoch 107.2836401462555 sec\n",
      "Epoch 12 Batch 0 Loss 0.0277\n",
      "Epoch 12 Batch 100 Loss 0.0175\n",
      "Epoch 12 Batch 200 Loss 0.0098\n",
      "Epoch 12 Batch 300 Loss 0.0128\n",
      "Epoch 12 Loss 0.0214\n",
      "Time taken for 1 epoch 106.43970990180969 sec\n",
      "Epoch 13 Batch 0 Loss 0.0043\n",
      "Epoch 13 Batch 100 Loss 0.0451\n",
      "Epoch 13 Batch 200 Loss 0.0098\n",
      "Epoch 13 Batch 300 Loss 0.0275\n",
      "Epoch 13 Loss 0.0197\n",
      "Time taken for 1 epoch 104.37097907066345 sec\n",
      "Epoch 14 Batch 0 Loss 0.0086\n",
      "Epoch 14 Batch 100 Loss 0.0557\n",
      "Epoch 14 Batch 200 Loss 0.0263\n",
      "Epoch 14 Batch 300 Loss 0.0137\n",
      "Epoch 14 Loss 0.0196\n",
      "Time taken for 1 epoch 104.3847291469574 sec\n",
      "Epoch 15 Batch 0 Loss 0.0002\n",
      "Epoch 15 Batch 100 Loss 0.0029\n",
      "Epoch 15 Batch 200 Loss 0.0260\n",
      "Epoch 15 Batch 300 Loss 0.0060\n",
      "Epoch 15 Loss 0.0165\n",
      "Time taken for 1 epoch 111.69808268547058 sec\n"
     ]
    }
   ],
   "source": [
    "# set the epochs for training\n",
    "EPOCHS = 15\n",
    "\n",
    "for epoch in range(EPOCHS):\n",
    "    start = time.time()\n",
    "\n",
    "    # get the initial hidden state of gru\n",
    "    enc_hidden = encoder.initialize_hidden_state()\n",
    "    total_loss = 0\n",
    "\n",
    "    for (batch, (inp, targ)) in enumerate(dataset.take(steps_per_epoch)):\n",
    "        batch_loss = train_step(inp, targ, enc_hidden)\n",
    "        total_loss += batch_loss\n",
    "\n",
    "        if batch % 100 == 0:\n",
    "            print('Epoch {} Batch {} Loss {:.4f}'.format(epoch + 1,\n",
    "                                                         batch,\n",
    "                                                         batch_loss.numpy()))\n",
    "\n",
    "    # saving (checkpoint) the model every 2 epochs\n",
    "    if (epoch + 1) % 2 == 0:\n",
    "        checkpoint.save(file_prefix=checkpoint_prefix)\n",
    "\n",
    "    print('Epoch {} Loss {:.4f}'.format(epoch + 1,\n",
    "                                        total_loss / steps_per_epoch))\n",
    "    print('Time taken for 1 epoch {} sec\\n'.format(time.time() - start))"
   ],
   "metadata": {
    "collapsed": false,
    "ExecuteTime": {
     "end_time": "2023-11-20T10:09:08.312794Z",
     "start_time": "2023-11-20T09:44:43.010125Z"
    }
   },
   "id": "48cf6bc40f53ac05"
  },
  {
   "cell_type": "code",
   "execution_count": 48,
   "outputs": [
    {
     "name": "stdout",
     "output_type": "stream",
     "text": [
      "./checkpoints/sentiment-analysis/ckpt-7\n"
     ]
    },
    {
     "data": {
      "text/plain": "<tensorflow.python.checkpoint.checkpoint.CheckpointLoadStatus at 0x297d3b750>"
     },
     "execution_count": 48,
     "metadata": {},
     "output_type": "execute_result"
    }
   ],
   "source": [
    "print(tf.train.latest_checkpoint(checkpoint_dir))\n",
    "# restoring the latest checkpoint in checkpoint_dir\n",
    "checkpoint.restore(tf.train.latest_checkpoint(checkpoint_dir))"
   ],
   "metadata": {
    "collapsed": false,
    "ExecuteTime": {
     "end_time": "2023-11-20T10:09:27.247968Z",
     "start_time": "2023-11-20T10:09:27.065063Z"
    }
   },
   "id": "4d1f74877e13068f"
  },
  {
   "cell_type": "code",
   "execution_count": 49,
   "outputs": [],
   "source": [
    "@tf.function\n",
    "def test_step(inp, enc_hidden):\n",
    "    with tf.GradientTape() as tape:\n",
    "        enc_output, enc_hidden = encoder(inp, enc_hidden)\n",
    "        predictions, attention_weights = decoder(enc_hidden, enc_output)\n",
    "    return predictions, attention_weights"
   ],
   "metadata": {
    "collapsed": false,
    "ExecuteTime": {
     "end_time": "2023-11-20T10:09:31.023400Z",
     "start_time": "2023-11-20T10:09:31.013246Z"
    }
   },
   "id": "5eff0bfda48d2cff"
  },
  {
   "cell_type": "code",
   "execution_count": 50,
   "outputs": [],
   "source": [
    "def evaluate(test_data):\n",
    "    enc_hidden = encoder.initialize_hidden_state()\n",
    "    \n",
    "    for batch, (inp, targ) in enumerate(test_data):\n",
    "        if len(inp) != BATCH_SIZE:\n",
    "            enc_hidden = tf.zeros((len(inp), units))\n",
    "        # make prediction\n",
    "        if batch == 0:\n",
    "            predictions, attention_weights = test_step(inp, enc_hidden)\n",
    "            predictions, attention_weights = predictions.numpy(), attention_weights.numpy()\n",
    "        else:\n",
    "            _predictions, _attention_weights = test_step(inp, enc_hidden)\n",
    "            _predictions, _attention_weights = _predictions.numpy(), _attention_weights.numpy()\n",
    "            predictions = np.concatenate((predictions, _predictions))\n",
    "            attention_weights = np.concatenate((attention_weights, _attention_weights))\n",
    "    \n",
    "    predictions = np.squeeze(predictions)\n",
    "    attention_weights = np.squeeze(attention_weights)\n",
    "    predictions[np.where(predictions < 0.5)] = 0\n",
    "    predictions[np.where(predictions >= 0.5)] = 1\n",
    "    return predictions, attention_weights"
   ],
   "metadata": {
    "collapsed": false,
    "ExecuteTime": {
     "end_time": "2023-11-20T10:09:33.989977Z",
     "start_time": "2023-11-20T10:09:33.980689Z"
    }
   },
   "id": "9b9d2b44031e772"
  },
  {
   "cell_type": "code",
   "execution_count": 51,
   "outputs": [],
   "source": [
    "y_pred, attention_weights = evaluate(test_dataset)"
   ],
   "metadata": {
    "collapsed": false,
    "ExecuteTime": {
     "end_time": "2023-11-20T10:09:42.765672Z",
     "start_time": "2023-11-20T10:09:35.359459Z"
    }
   },
   "id": "ead99b6436ea7100"
  },
  {
   "cell_type": "code",
   "execution_count": 52,
   "outputs": [
    {
     "name": "stdout",
     "output_type": "stream",
     "text": [
      "Accuracy:  0.8444\n"
     ]
    }
   ],
   "source": [
    "print('Accuracy: ', (y_pred == y_test).sum() / len(y_test))"
   ],
   "metadata": {
    "collapsed": false,
    "ExecuteTime": {
     "end_time": "2023-11-20T10:09:46.751739Z",
     "start_time": "2023-11-20T10:09:46.749128Z"
    }
   },
   "id": "595cb660921f64a"
  },
  {
   "cell_type": "code",
   "execution_count": 53,
   "outputs": [
    {
     "name": "stdout",
     "output_type": "stream",
     "text": [
      "y_true: 1\n",
      "y_predict: 0\n",
      "changed it was terrible main event \u001B[31mjust\u001B[0m like every \u001B[31mmatch\u001B[0m is in is terrible other matches on the \u001B[31mcard\u001B[0m were razor ramon vs ted brothers vs bodies shawn michaels vs \u001B[31mthis\u001B[0m \u001B[31mwas\u001B[0m the event where shawn named his big monster of body guard vs kid hart first takes on then takes on jerry and stuff with the and was always very interesting then destroyed marty undertaker took on giant in another terrible \u001B[31mmatch\u001B[0m the smoking and took on bam bam \u001B[31mand\u001B[0m the and the world title against lex this match was boring \u001B[31mand\u001B[0m it has terrible ending however \u001B[31mit\u001B[0m \u001B[31mdeserves\u001B[0m \n",
      "\n",
      "\n",
      "y_true: 1\n",
      "y_predict: 1\n",
      "of subject matter as are and broken in many ways on many many issues happened to see the pilot premiere in passing and just had to keep in after that to see if would ever get the girl after seeing them all on television was delighted to see them available on dvd have to admit that it was the only thing that kept me sane whilst had to do hour night shift \u001B[31mand\u001B[0m \u001B[31mdeveloped\u001B[0m insomnia \u001B[31mfarscape\u001B[0m \u001B[31mwas\u001B[0m \u001B[31mthe\u001B[0m only thing to get me through those extremely long nights do yourself favour watch the pilot \u001B[31mand\u001B[0m \u001B[31msee\u001B[0m what \u001B[31mmean\u001B[0m \u001B[31mfarscape\u001B[0m \u001B[31mcomet\u001B[0m \n",
      "\n",
      "\n",
      "y_true: 0\n",
      "y_predict: 0\n",
      "destruction the \u001B[31mfirst\u001B[0m really bad thing is the \u001B[31mguy\u001B[0m steven seagal would have been beaten to pulp by seagal driving but that probably would have ended the whole premise for the movie it seems like they decided to make all kinds of changes in the movie plot so just plan to enjoy the action and do not \u001B[31mexpect\u001B[0m coherent plot turn any sense of logic you \u001B[31mmay\u001B[0m \u001B[31mhave\u001B[0m it will your chance of getting headache does give me some \u001B[31mhope\u001B[0m that steven seagal is trying to \u001B[31mmove\u001B[0m back \u001B[31mtowards\u001B[0m the type of characters he portrayed in his more \u001B[31mpopular\u001B[0m \u001B[31mmovies\u001B[0m \n",
      "\n",
      "\n",
      "y_true: 1\n",
      "y_predict: 1\n",
      "jane austen would definitely of this one paltrow does an awesome job capturing the attitude of emma she is funny without being silly yet elegant she puts on very convincing british accent not being british myself maybe m not the best judge but she fooled me she was also excellent in \u001B[31mdoors\u001B[0m \u001B[31msometimes\u001B[0m forget she american also brilliant are jeremy northam and \u001B[31msophie\u001B[0m \u001B[31mthompson\u001B[0m \u001B[31mand\u001B[0m \u001B[31mlaw\u001B[0m emma \u001B[31mthompson\u001B[0m sister \u001B[31mand\u001B[0m \u001B[31mmother\u001B[0m as the bates women they nearly \u001B[31msteal\u001B[0m the show and ms law doesn even have any lines highly recommended \n",
      "\n",
      "\n",
      "y_true: 0\n",
      "y_predict: 0\n",
      "reaches the point where they become obnoxious and simply frustrating touch football puzzle family and talent shows are not how actual people behave it almost sickening another \u001B[31mbig\u001B[0m flaw is the woman carell is supposed to be falling for her in her first scene with steve carell is like watching stroke \u001B[31mvictim\u001B[0m trying to be what imagine \u001B[31mis\u001B[0m \u001B[31msupposed\u001B[0m to be unique and original in this woman comes \u001B[31moff\u001B[0m \u001B[31mas\u001B[0m mildly retarded it makes me \u001B[31mthink\u001B[0m that this \u001B[31mmovie\u001B[0m is taking place on another planet left the \u001B[31mtheater\u001B[0m wondering what just saw after thinking further don think it was \u001B[31mmuch\u001B[0m \n",
      "\n",
      "\n",
      "y_true: 1\n",
      "y_predict: 1\n",
      "the pace quick \u001B[31mand\u001B[0m \u001B[31menergetic\u001B[0m \u001B[31mbut\u001B[0m \u001B[31mmost\u001B[0m importantly he \u001B[31mknows\u001B[0m how to make comedy funny he doesn the jokes and he understands that funny actors know what they re doing and he allows them to do it but segal goes step further he gives tommy boy friendly almost nostalgic tone that both the genuinely and the critics didn like tommy boy shame on them movie doesn have to be super sophisticated or intellectual to be funny god \u001B[31mfarley\u001B[0m \u001B[31mand\u001B[0m spade were forced to do muted comedy la the office this is great movie and one of \u001B[31mmy\u001B[0m \u001B[31mall\u001B[0m time \u001B[31mfavorites\u001B[0m \n",
      "\n",
      "\n",
      "y_true: 1\n",
      "y_predict: 1\n",
      "for once story of hope over the tragic reality our youth face rising draws one into scary and unfair world and shows through beautiful color and moving music how one man and his dedicated friends choose not to accept that world and change it through action and art an entertaining interesting emotional beautiful film showed this film to numerous high school \u001B[31mstudents\u001B[0m as well who all live \u001B[31min\u001B[0m \u001B[31mwith\u001B[0m \u001B[31mpoverty\u001B[0m and and gun violence and they were with anderson the \u001B[31mprotagonist\u001B[0m \u001B[31mrecommend\u001B[0m \u001B[31mthis\u001B[0m film to all ages \u001B[31mover\u001B[0m due to subtitles and some images of death from all \u001B[31mbackgrounds\u001B[0m \n",
      "\n",
      "\n",
      "y_true: 1\n",
      "y_predict: 1\n",
      "people and sleeping around that he kept secret from most people he feels free to \u001B[31mhave\u001B[0m an affair with quasi because \u001B[31mhe\u001B[0m kevin \u001B[31mhe\u001B[0m figures \u001B[31mout\u001B[0m \u001B[31mthat\u001B[0m he can fool some people with cards like hotel but it won get him out of those the of heaven are keeping track of him and everything he does after reading all the theories on though it seems like identity is reminder of the different paths tony could ve taken in his life possibly \u001B[31malong\u001B[0m with the car joke involving that made \u001B[31mno\u001B[0m sense \u001B[31mto\u001B[0m me otherwise \u001B[31mat\u001B[0m that point my brain \u001B[31mout\u001B[0m \n",
      "\n",
      "\n",
      "y_true: 0\n",
      "y_predict: 1\n",
      "over again can remember how many times he said the universe is made out of tiny little strings it like they were trying to us into just accepting are the best thing \u001B[31msince\u001B[0m bread finally the show ended off with an unpleasant sense of competition between and clearly biased towards this is supposed to be an educational program about quantum physics \u001B[31mnot\u001B[0m about whether the us is better than europe or \u001B[31mvice\u001B[0m versa \u001B[31malso\u001B[0m \u001B[31mfelt\u001B[0m that was part \u001B[31mof\u001B[0m the \u001B[31maudiences\u001B[0m need to see some conflict to remain interested please give me little more credit than that \u001B[31moverall\u001B[0m \u001B[31mthumbs\u001B[0m \u001B[31mdown\u001B[0m \n",
      "\n",
      "\n",
      "y_true: 0\n",
      "y_predict: 0\n",
      "the scenes involving joe character in \u001B[31mparticular\u001B[0m the scenes in the terribly clich \u001B[31mbut\u001B[0m still funny rich but screwed up characters house where the story towards it final moments can see how was great stage play and while the film makers did their best to translate this to celluloid it simply didn work and while laughed out loud at some of scenes and one liners think the first minutes my senses and \u001B[31mexpectations\u001B[0m \u001B[31mto\u001B[0m \u001B[31msuch\u001B[0m \u001B[31mdegree\u001B[0m would have laughed at anything unless you \u001B[31mre\u001B[0m stuck for novelty \u001B[31mcoffee\u001B[0m \u001B[31mcoaster\u001B[0m don pick this up if you see it in bargain \u001B[31mbucket\u001B[0m \n"
     ]
    }
   ],
   "source": [
    "from termcolor import colored\n",
    "for idx, data in enumerate(X_test[:10]):\n",
    "    print('y_true: {:d}'.format(y_test[idx]))\n",
    "    print('y_predict: {:.0f}'.format(y_pred[idx]))\n",
    "    \n",
    "    # get the twenty most largest attention weights\n",
    "    large_weights_idx = np.argsort(attention_weights[idx])[::-1][:10]\n",
    "    \n",
    "    for _idx in range(len(data)):\n",
    "        word_idx = data[_idx]\n",
    "        if word_idx != 0:\n",
    "            if _idx in large_weights_idx:\n",
    "                print(colored(tokenizer.index_word[word_idx], 'red'), end=' ')\n",
    "                # try this if termcolor is not working properly\n",
    "                # print(f'\\033[31m{tokenizer.index_word[word_idx]}\\033[0m', end=' ')\n",
    "            else:\n",
    "                print(tokenizer.index_word[word_idx], end=' ')\n",
    "    print(\"\\n\\n\")"
   ],
   "metadata": {
    "collapsed": false,
    "ExecuteTime": {
     "end_time": "2023-11-20T10:10:04.411521Z",
     "start_time": "2023-11-20T10:10:04.369827Z"
    }
   },
   "id": "e517bfac98bee1a1"
  },
  {
   "cell_type": "code",
   "execution_count": null,
   "outputs": [],
   "source": [],
   "metadata": {
    "collapsed": false
   },
   "id": "d9f4f3b18a76ddb8"
  }
 ],
 "metadata": {
  "kernelspec": {
   "display_name": "Python 3",
   "language": "python",
   "name": "python3"
  },
  "language_info": {
   "codemirror_mode": {
    "name": "ipython",
    "version": 2
   },
   "file_extension": ".py",
   "mimetype": "text/x-python",
   "name": "python",
   "nbconvert_exporter": "python",
   "pygments_lexer": "ipython2",
   "version": "2.7.6"
  }
 },
 "nbformat": 4,
 "nbformat_minor": 5
}
